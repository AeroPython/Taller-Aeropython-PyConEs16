{
 "cells": [
  {
   "cell_type": "markdown",
   "metadata": {},
   "source": [
    "![Aropython_logo](./static/aeropython_name_mini.png)\n",
    "###### Siro Moreno Martín"
   ]
  },
  {
   "cell_type": "markdown",
   "metadata": {},
   "source": [
    "# Cómo destruir y corromper todo lo es bueno y bello"
   ]
  },
  {
   "cell_type": "markdown",
   "metadata": {},
   "source": [
    "## A veces, tenemos que usar Excel"
   ]
  },
  {
   "cell_type": "markdown",
   "metadata": {},
   "source": [
    "Hay que reconocer que hay gente por ahí que hace maravillas, aunque me de cosilla pensarlo:\n",
    "\n",
    "https://www.youtube.com/watch?v=AmlqgQidXtk\n",
    "\n",
    "Pero el caso es que quién más, quién menos, todos alguna vez necesitamos tratar con archivos de Excel en algún momento de la vida. Y si tienes que trabajar con los datos y temes que si intentas programar una macro puedas invocar a Shub-Niggurath, siempre podemos contar con el poder de Anaconda!\n",
    "\n",
    "Para esta charla he utilizado openpyxl, pero hay otros paquetes que también permiten trabajar con ficheros de Excel, como xlsreader y xlsxwriter.\n",
    "\n",
    "Nota: para que los estilos del notebook se rendericen bien, haz File-> Trust Notebook. Si aún así no salen las letras de colores, ejecuta la última celda. Los colores importan because reasons."
   ]
  },
  {
   "cell_type": "code",
   "execution_count": null,
   "metadata": {
    "collapsed": true
   },
   "outputs": [],
   "source": [
    "#Vamos a importar numpy y pandas para jugar un poquillo\n",
    "import numpy as np\n",
    "import pandas as pd\n",
    "from openpyxl import Workbook\n",
    "from openpyxl import load_workbook"
   ]
  },
  {
   "cell_type": "code",
   "execution_count": null,
   "metadata": {
    "collapsed": true
   },
   "outputs": [],
   "source": [
    "#También usaremos funciones para dibujar gráficos\n",
    "from openpyxl.chart import (\n",
    "    ScatterChart,\n",
    "    Reference,\n",
    "    Series,\n",
    ")"
   ]
  },
  {
   "cell_type": "markdown",
   "metadata": {},
   "source": [
    "Empezaremos cargando a Python datos desde un documento de excel."
   ]
  },
  {
   "cell_type": "code",
   "execution_count": null,
   "metadata": {
    "collapsed": false
   },
   "outputs": [],
   "source": [
    "#Vamos a cargar el workbook existente\n",
    "wb_cargado = load_workbook(filename='datos.xlsx', read_only=True)#wb es un workbook iterable\n",
    "ws_cargado = wb_cargado['datos'] # El primer elemento de wb, ws, es una worksheet iterable"
   ]
  },
  {
   "cell_type": "code",
   "execution_count": null,
   "metadata": {
    "collapsed": false,
    "scrolled": true
   },
   "outputs": [],
   "source": [
    "#Comprobamos que nuestros importantísimos datos científicos se han cargado\n",
    "for row in ws_cargado.rows: #Podemos iterar en las filas de la worksheet\n",
    "    for cell in row:    #Cada fila es iterable a su vez, cada elemento es una celda\n",
    "        print(cell.value) #Las celdas ya no son iterables más. Gracias a los Dioses."
   ]
  },
  {
   "cell_type": "code",
   "execution_count": null,
   "metadata": {
    "collapsed": true
   },
   "outputs": [],
   "source": [
    "#Vamos a volcar los datos en algo así como más de Python, una lista de listas, que siempre mola.\n",
    "datos = []\n",
    "for row in ws_cargado.rows:\n",
    "    fila = []\n",
    "    for cell in row:\n",
    "        fila.append(cell.value)\n",
    "    datos.append(fila)"
   ]
  },
  {
   "cell_type": "code",
   "execution_count": null,
   "metadata": {
    "collapsed": false
   },
   "outputs": [],
   "source": [
    "#Podemos pasar ahora estos datos a una tabla de pandas, por ejemplo. Pandas mola también.\n",
    "pd.DataFrame(datos)"
   ]
  },
  {
   "cell_type": "code",
   "execution_count": null,
   "metadata": {
    "collapsed": false
   },
   "outputs": [],
   "source": [
    "#Si intentamos usar indexación como si fuera un array, no podremos.\n",
    "#Esto evita que los demonios de la dimensión J invadan la tierra.\n",
    "ws_cargado.rows[1:5]"
   ]
  },
  {
   "cell_type": "code",
   "execution_count": null,
   "metadata": {
    "collapsed": false
   },
   "outputs": [],
   "source": [
    "#Tenemos que usar el método que ya viene para trazar un rectángulo alquímico de celdas:\n",
    "for row in ws_cargado.iter_rows('A1:B5'):\n",
    "    for cell in row:\n",
    "        print (cell.value)"
   ]
  },
  {
   "cell_type": "code",
   "execution_count": null,
   "metadata": {
    "collapsed": false
   },
   "outputs": [],
   "source": [
    "#Inspeccionando los datos científicos, hemos descubierto que no son del todo correctos.\n",
    "#Debemos corregirlos a algo más apropiado a lo que es usar Excel\n",
    "nombres = []\n",
    "for row in ws_cargado.rows:\n",
    "    nombres.append(row[1].value)\n",
    "\n",
    "new_data = []\n",
    "for word in nombres:\n",
    "    word = word.replace('mariposas', 'avispas')\n",
    "    word =word.replace('luz', 'oscuridad')\n",
    "    word =word.replace('amor', 'sufrimiento')\n",
    "    word =word.replace('paz','odio')\n",
    "    word =word.replace('felicidad', 'desesperación')\n",
    "    new_data.append(word)"
   ]
  },
  {
   "cell_type": "code",
   "execution_count": null,
   "metadata": {
    "collapsed": true
   },
   "outputs": [],
   "source": [
    "#Podemos también generar datos nuevos como siempre, que luego guardaremos.\n",
    "#Ahora, usaremos numpy para calcular vectores y mierdas así.\n",
    "#Las matematicas son algo así como científico, estos datos son ciencia también.\n",
    "theta = np.linspace(-0.5 * np.pi, 1.5 *np.pi, 100)\n",
    "theta_2 = np.linspace(1.5 * np.pi, 7.5*np.pi, 6)\n",
    "theta = np.concatenate((theta, theta_2))\n",
    "x = np.cos(theta)\n",
    "y = np.sin(theta)\n"
   ]
  },
  {
   "cell_type": "markdown",
   "metadata": {},
   "source": [
    "Ahora que ya hemos cargado datos de un excel en Python, y que seguimos pudiendo usar otras librerías a pesar de tamaña atrocidad, crearemos un excel vacío nuevo para guardar toda nuestra mierda y mandársela a alguien que le importe."
   ]
  },
  {
   "cell_type": "code",
   "execution_count": null,
   "metadata": {
    "collapsed": true
   },
   "outputs": [],
   "source": [
    "#Crear workbook nuevo\n",
    "wb = Workbook()\n",
    "\n",
    "#Seleccionar la worksheet activa\n",
    "ws = wb.active"
   ]
  },
  {
   "cell_type": "code",
   "execution_count": null,
   "metadata": {
    "collapsed": true
   },
   "outputs": [],
   "source": [
    "#Vamos a crear más páginas, simplemente porque podemos.\n",
    "ws1 = wb.create_sheet()\n",
    "ws1 = wb.create_sheet()"
   ]
  },
  {
   "cell_type": "code",
   "execution_count": null,
   "metadata": {
    "collapsed": false
   },
   "outputs": [],
   "source": [
    "#Te interesa saber los nombres de las worksheet nuevas? Se puede!\n",
    "wb.get_sheet_names()"
   ]
  },
  {
   "cell_type": "code",
   "execution_count": null,
   "metadata": {
    "collapsed": false
   },
   "outputs": [],
   "source": [
    "#Otra manera de sacar los nombres de las cosas esas es ir iterando en el workbook:\n",
    "#Cada elemento es una worksheet.\n",
    "#A la gente que hizo esto les molaba la mierda esta de iterar cosas.\n",
    "for sheet in wb:\n",
    "    print(sheet.title)"
   ]
  },
  {
   "cell_type": "code",
   "execution_count": null,
   "metadata": {
    "collapsed": true
   },
   "outputs": [],
   "source": [
    "#Carguemos los datos corregidos en el workbook nuevo usando un bucle\n",
    "for row in range(len(new_data)):\n",
    "    cell_name = 'A' + str(row + 1)\n",
    "    ws[cell_name] = new_data[row]"
   ]
  },
  {
   "cell_type": "code",
   "execution_count": null,
   "metadata": {
    "collapsed": false
   },
   "outputs": [],
   "source": [
    "#Con otro bucle vamos a cargar los datos generados por ciencia.\n",
    "colname = ['B','C']\n",
    "data = np.array([x, y])\n",
    "for col in range(2):\n",
    "    for row in range(1, len(x)+1):\n",
    "        letter = colname[col]\n",
    "        name = letter + str(row)\n",
    "        ws[name] = data[col, row - 1]\n"
   ]
  },
  {
   "cell_type": "code",
   "execution_count": null,
   "metadata": {
    "collapsed": false
   },
   "outputs": [],
   "source": [
    "#Ahora vamos a añadir un gráfico al workbook. Es para lo que sirve excel, no?\n",
    "chart = ScatterChart()\n",
    "chart.title = \"Scatter Chart\"\n",
    "chart.style = 44\n",
    "chart.x_axis.title = 'Maldad'\n",
    "chart.y_axis.title = 'Obscenidad'\n",
    "\n",
    "#Añadimos una serie de datos para pintar la ciencia en la hoja\n",
    "xvalues = Reference(ws, min_col=2, min_row=1, max_row=len(x)+1)\n",
    "values = Reference(ws, min_col=3, min_row=1, max_row=len(x)+1)\n",
    "series = Series(values, xvalues, title_from_data=False)\n",
    "chart.series.append(series)\n",
    "\n"
   ]
  },
  {
   "cell_type": "code",
   "execution_count": null,
   "metadata": {
    "collapsed": true
   },
   "outputs": [],
   "source": [
    "#El tamaño importa\n",
    "chart.height= 15\n",
    "chart.width = 18\n",
    "\n",
    "#Después de haberlo definido, lo añadimos al workbook cual pegote\n",
    "ws.add_chart(chart, \"C1\")"
   ]
  },
  {
   "cell_type": "code",
   "execution_count": null,
   "metadata": {
    "collapsed": false
   },
   "outputs": [],
   "source": [
    "#Vamos a guardar nuestro coso horrible antes de que nos dé un colapso \n",
    "#Y el mundo se quede sin disfrutar de nuestra obra\n",
    "wb.save('resultado.xlsx')"
   ]
  },
  {
   "cell_type": "markdown",
   "metadata": {
    "collapsed": false
   },
   "source": [
    "## Eso es todo artemaníacos! Ya podéis jugar con Excel y Python para crear aberraciones que pueblen la tierra!"
   ]
  },
  {
   "cell_type": "markdown",
   "metadata": {
    "collapsed": true
   },
   "source": [
    "Espero que esta mini-charla te ayude a crear la **Ñapa Definitiva del Universo** que seguro que quieres fabricar, pero si aún así quieres saber más sobre este paquete, puedes consultar su documentación:\n",
    "\n",
    "https://openpyxl.readthedocs.org/en/default/index.html"
   ]
  },
  {
   "cell_type": "code",
   "execution_count": 1,
   "metadata": {
    "collapsed": false
   },
   "outputs": [
    {
     "data": {
      "text/html": [
       "<link href='http://fonts.googleapis.com/css?family=Source+Sans+Pro|Josefin+Sans:400,700,400italic|Ubuntu+Condensed' rel='stylesheet' type='text/css'>\n",
       "\n",
       "\n",
       "<style>\n",
       "\n",
       "#notebook_panel { /* main background */\n",
       "    background: #f7f7f7;\n",
       "}\n",
       "\n",
       "div.cell { /* set cell width */\n",
       "    width: 900px;\n",
       "}\n",
       "\n",
       "div #notebook { /* centre the content */\n",
       "    background: #fff; /* white background for content */\n",
       "    width: 950px;\n",
       "    margin: auto;\n",
       "    padding-left: 0em;\n",
       "}\n",
       "\n",
       "#notebook li { /* More space between bullet points */\n",
       "    margin-top:0.7em;\n",
       "}\n",
       "\n",
       "/* draw border around running cells */\n",
       "div.cell.border-box-sizing.code_cell.running { \n",
       "    border: 1px solid #111;\n",
       "}\n",
       "\n",
       "/* Put a solid color box around each cell and its output, visually linking them*/\n",
       "div.cell.code_cell {\n",
       "    font-family: 'Source Sans Pro', sans-serif;\n",
       "    background-color: rgb(256,256,256);\n",
       "    font-size: 110%;\n",
       "    border-radius: 0px; \n",
       "    padding: 0.5em;\n",
       "    margin-left:1em;\n",
       "    margin-top: 1em;\n",
       "}\n",
       "\n",
       "div.text_cell_render{\n",
       "    font-family: 'Josefin Sans', serif;\n",
       "    line-height: 145%;\n",
       "    font-size: 125%;\n",
       "    font-weight: 500;\n",
       "    width:750px;\n",
       "    margin-left:auto;\n",
       "    margin-right:auto;\n",
       "}\n",
       "\n",
       "\n",
       "/* Formatting for header cells */\n",
       ".text_cell_render h1, .text_cell_render h2, .text_cell_render h3,\n",
       ".text_cell_render h4, .text_cell_render h5 {\n",
       "    font-family: 'Ubuntu Condensed', sans-serif;\n",
       "}\n",
       "\n",
       ".text_cell_render h1 {    /*Use this for Title*/\n",
       "    font-weight: 500;\n",
       "    font-size: 38pt;\n",
       "    line-height: 100%;\n",
       "    color: #EE9141;\n",
       "    text-align: center;\n",
       "    margin-bottom: 0.1em;\n",
       "    margin-top: 0.3em;\n",
       "    display: block;\n",
       "}\n",
       "\n",
       ".text_cell_render h2 {    /*Use this for Subtitle*/\n",
       "    margin-top:16px;\n",
       "    font-size: 32pt;\n",
       "    font-weight: 500;\n",
       "    margin-bottom: 0.1em;\n",
       "    margin-top: 0.3em;\n",
       "    text-align: center;\n",
       "    font-style: regular;\n",
       "    color: #459EBA;\n",
       "}\t\n",
       "\n",
       ".text_cell_render h3 {   /*Sections*/ \n",
       "    font-size: 30pt;\n",
       "    font-weight: 300;\n",
       "    text-align: left;\n",
       "    margin-bottom: 0.1em;\n",
       "    margin-top: 0.3em;\n",
       "    font-style: regular;\n",
       "    color:  #252525;\n",
       "}\n",
       "\n",
       ".text_cell_render h4 {    /*Subsections*/\n",
       "    font-size: 28pt;\n",
       "    font-weight: 200;\n",
       "    text-align: left;\n",
       "    margin-bottom: 0.1em;\n",
       "    margin-top: 0.3em;\n",
       "    font-style: regular;\n",
       "    color:  #377e95;\n",
       "}\n",
       "\n",
       ".text_cell_render h5 {    /*Subsubsections*/\n",
       "    font-size: 20pt;\n",
       "    font-weight: 300;\n",
       "    font-style: italic;\n",
       "    margin-bottom: .1em;\n",
       "    margin-top: 0.8em;\n",
       "    display: block;\n",
       "    color:  #e77615;\n",
       "}\n",
       "\n",
       ".text_cell_render h6 {    /*Author*/\n",
       "    font-family: 'Ubuntu Condensed', sans-serif;\n",
       "    font-weight: 100;\n",
       "    font-size: 14pt;\n",
       "    line-height: 100%;\n",
       "    color: #252525;\n",
       "    text-align: right;\n",
       "    margin-bottom: 1px;\n",
       "    margin-top: 3px;\n",
       "}\n",
       "\n",
       ".CodeMirror{\n",
       "        font-family: 'Duru Sans', sans-serif;\n",
       "        font-size: 100%;\n",
       "}\n",
       "\n",
       "</style>\n",
       "<script>\n",
       "    MathJax.Hub.Config({\n",
       "                        TeX: {\n",
       "                           extensions: [\"AMSmath.js\"],\n",
       "                           equationNumbers: { autoNumber: \"AMS\", useLabelIds: true}\n",
       "                           },\n",
       "                tex2jax: {\n",
       "                    inlineMath: [ ['$','$'], [\"\\\\(\",\"\\\\)\"] ],\n",
       "                    displayMath: [ ['$$','$$'], [\"\\\\[\",\"\\\\]\"] ]\n",
       "                },\n",
       "                displayAlign: 'center', // Change this to 'center' to center equations.\n",
       "                \"HTML-CSS\": {\n",
       "                    styles: {'.MathJax_Display': {\"margin\": 4}}\n",
       "                }\n",
       "        });\n",
       "</script>\n"
      ],
      "text/plain": [
       "<IPython.core.display.HTML object>"
      ]
     },
     "execution_count": 1,
     "metadata": {},
     "output_type": "execute_result"
    }
   ],
   "source": [
    "# Notebook style. Para que salgan las letras de colorines.\n",
    "from IPython.core.display import HTML\n",
    "css_file = './static/style.css'\n",
    "HTML(open(css_file, \"r\").read())"
   ]
  }
 ],
 "metadata": {
  "kernelspec": {
   "display_name": "Python 3",
   "language": "python",
   "name": "python3"
  },
  "language_info": {
   "codemirror_mode": {
    "name": "ipython",
    "version": 3
   },
   "file_extension": ".py",
   "mimetype": "text/x-python",
   "name": "python",
   "nbconvert_exporter": "python",
   "pygments_lexer": "ipython3",
   "version": "3.5.1"
  }
 },
 "nbformat": 4,
 "nbformat_minor": 0
}
