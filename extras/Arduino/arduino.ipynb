{
 "cells": [
  {
   "cell_type": "markdown",
   "metadata": {
    "collapsed": false
   },
   "source": [
    "## Interactuar con arduino desde un Notebook"
   ]
  },
  {
   "cell_type": "markdown",
   "metadata": {},
   "source": [
    "AVISO DE CHAPUZA SUPREMA"
   ]
  },
  {
   "cell_type": "markdown",
   "metadata": {},
   "source": [
    "Primero, abrimos la vía de comunicación"
   ]
  },
  {
   "cell_type": "code",
   "execution_count": null,
   "metadata": {
    "collapsed": true
   },
   "outputs": [],
   "source": [
    "import serial\n",
    "import datetime"
   ]
  },
  {
   "cell_type": "code",
   "execution_count": null,
   "metadata": {
    "collapsed": false
   },
   "outputs": [],
   "source": [
    "ser = serial.Serial('COM4', 9600)\n",
    "\n",
    "#Linux: ser = serial.Serial('/dev/ttyACM0', 9600)"
   ]
  },
  {
   "cell_type": "markdown",
   "metadata": {},
   "source": [
    "Con la función readline() podemos leer, y con decode la dejamos más bonita"
   ]
  },
  {
   "cell_type": "code",
   "execution_count": null,
   "metadata": {
    "collapsed": false,
    "scrolled": true
   },
   "outputs": [],
   "source": [
    "for i in range(100):\n",
    "    print(ser.readline().decode(\"utf-8\") )"
   ]
  },
  {
   "cell_type": "markdown",
   "metadata": {},
   "source": [
    "Podemos también escribir!"
   ]
  },
  {
   "cell_type": "code",
   "execution_count": null,
   "metadata": {
    "collapsed": false
   },
   "outputs": [],
   "source": [
    "ser.write(b'50')"
   ]
  },
  {
   "cell_type": "markdown",
   "metadata": {},
   "source": [
    "Para lo siguiente, tendremos que cortar la comunicación"
   ]
  },
  {
   "cell_type": "code",
   "execution_count": null,
   "metadata": {
    "collapsed": true
   },
   "outputs": [],
   "source": [
    "ser.close()"
   ]
  },
  {
   "cell_type": "markdown",
   "metadata": {},
   "source": [
    "Hagamos cosas de verdad"
   ]
  },
  {
   "cell_type": "code",
   "execution_count": null,
   "metadata": {
    "collapsed": false
   },
   "outputs": [],
   "source": [
    "ser = serial.Serial('COM4', 9600) #Iniciamos comunicación\n",
    "\n",
    "print('preparado')\n",
    "for i in range(3):\n",
    "    print(ser.readline().decode(\"utf-8\") ) #Espera hasta que empiece a comunicarse\n",
    "# -----------------------------------\n",
    "ser.write(b'50') #Enviamos una orden\n",
    "print('mensaje enviado\\r\\n')\n",
    "for i in range(2):\n",
    "    print(ser.readline().decode(\"utf-8\") ) #Leemos un par de veces para limpiar el puerto por si acaso\n",
    "\n",
    "for i in range(100): #Leemos hasta que pase a 'Esperando', o hasta que termine\n",
    "    if ser.readline() == b'esperando\\r\\n':\n",
    "        print('esperando\\r\\n')\n",
    "        print(ser.readline().decode(\"utf-8\") )\n",
    "        print(ser.readline().decode(\"utf-8\") )\n",
    "        break\n",
    "    print(ser.readline().decode(\"utf-8\") )\n",
    "#------------------------------------\n",
    "print('pasando a segunda orden\\r\\n')    \n",
    "ser.write(b'150')\n",
    "for i in range(3):\n",
    "    print(ser.readline().decode(\"utf-8\") )\n",
    "for i in range(100):\n",
    "    if ser.readline() == b'esperando\\r\\n':\n",
    "        print('esperando\\r\\n')\n",
    "        print(ser.readline().decode(\"utf-8\") )\n",
    "        print(ser.readline().decode(\"utf-8\") )\n",
    "        break\n",
    "    print(ser.readline().decode(\"utf-8\") )\n",
    "ser.close()"
   ]
  },
  {
   "cell_type": "markdown",
   "metadata": {},
   "source": [
    "Un poco más avanzado!"
   ]
  },
  {
   "cell_type": "code",
   "execution_count": null,
   "metadata": {
    "collapsed": false,
    "scrolled": true
   },
   "outputs": [],
   "source": [
    "tiempos = []\n",
    "posiciones =[]\n",
    "starttime = datetime.datetime.now()\n",
    "\n",
    "ser = serial.Serial('COM4', 9600) #Iniciamos comunicación\n",
    "\n",
    "print('preparado')\n",
    "for i in range(3):\n",
    "    lectura = ser.readline().decode(\"utf-8\")\n",
    "    print(lectura) #Espera hasta que empiece a comunicarse\n",
    "    if lectura[:8] == 'Medida: ':\n",
    "        tiempo = datetime.datetime.now()\n",
    "        deltat = tiempo - starttime\n",
    "        deltatvalue = deltat.seconds + deltat.microseconds/1000000\n",
    "        tiempos.append(deltatvalue)\n",
    "        medida = float(lectura[8:])\n",
    "        posiciones.append(medida)\n",
    "# -----------------------------------\n",
    "ser.write(b'50') #Enviamos una orden\n",
    "print('mensaje enviado\\r\\n')\n",
    "for i in range(2):\n",
    "    print(ser.readline().decode(\"utf-8\") ) #Leemos un par de veces para limpiar el puerto por si acaso\n",
    "\n",
    "for i in range(100): #Leemos hasta que pase a 'Esperando', o hasta que termine\n",
    "    lectura = ser.readline().decode(\"utf-8\")\n",
    "    print(lectura) \n",
    "    if lectura == 'esperando\\r\\n':\n",
    "        print(ser.readline().decode(\"utf-8\") )\n",
    "        print(ser.readline().decode(\"utf-8\") )\n",
    "        break\n",
    "    if lectura[:8] == 'moviendo':\n",
    "        _pos = lectura.find('posicion') + 10\n",
    "        _pos2 = lectura.find(' ',_pos )\n",
    "        medida = float(lectura[_pos : _pos2])\n",
    "        posiciones.append(medida)\n",
    "        tiempo = datetime.datetime.now()\n",
    "        deltat = tiempo - starttime\n",
    "        deltatvalue = deltat.seconds + deltat.microseconds/1000000\n",
    "        tiempos.append(deltatvalue)\n",
    "   \n",
    "#------------------------------------\n",
    "print('pasando a segunda orden\\r\\n')    \n",
    "ser.write(b'150')\n",
    "for i in range(4):\n",
    "    lectura = ser.readline().decode(\"utf-8\")\n",
    "    print(lectura) #Espera hasta que empiece a comunicarse\n",
    "    if lectura[:8] == 'Medida: ':\n",
    "        tiempo = datetime.datetime.now()\n",
    "        deltat = tiempo - starttime\n",
    "        deltatvalue = deltat.seconds + deltat.microseconds/1000000\n",
    "        tiempos.append(deltatvalue)\n",
    "        medida = float(lectura[8:])\n",
    "        posiciones.append(medida)\n",
    "for i in range(100):\n",
    "    lectura = ser.readline().decode(\"utf-8\")\n",
    "    print(lectura) \n",
    "    if lectura == 'esperando\\r\\n':\n",
    "        print(ser.readline().decode(\"utf-8\") )\n",
    "        print(ser.readline().decode(\"utf-8\") )\n",
    "        break\n",
    "    if lectura[:8] == 'moviendo':\n",
    "        _pos = lectura.find('posicion') + 10\n",
    "        _pos2 = lectura.find(' ',_pos )\n",
    "        medida = float(lectura[_pos : _pos2])\n",
    "        posiciones.append(medida)\n",
    "        tiempo = datetime.datetime.now()\n",
    "        deltat = tiempo - starttime\n",
    "        deltatvalue = deltat.seconds + deltat.microseconds/1000000\n",
    "        tiempos.append(deltatvalue)\n",
    "ser.close()"
   ]
  },
  {
   "cell_type": "code",
   "execution_count": null,
   "metadata": {
    "collapsed": false
   },
   "outputs": [],
   "source": [
    "tiempos"
   ]
  },
  {
   "cell_type": "code",
   "execution_count": null,
   "metadata": {
    "collapsed": false
   },
   "outputs": [],
   "source": [
    "posiciones"
   ]
  },
  {
   "cell_type": "code",
   "execution_count": null,
   "metadata": {
    "collapsed": true
   },
   "outputs": [],
   "source": [
    "%matplotlib inline\n",
    "import matplotlib.pyplot as plt"
   ]
  },
  {
   "cell_type": "code",
   "execution_count": null,
   "metadata": {
    "collapsed": false
   },
   "outputs": [],
   "source": [
    "plt.figure(figsize=(10,6))\n",
    "plt.plot(tiempos, posiciones)"
   ]
  },
  {
   "cell_type": "code",
   "execution_count": null,
   "metadata": {
    "collapsed": true
   },
   "outputs": [],
   "source": []
  }
 ],
 "metadata": {
  "kernelspec": {
   "display_name": "Python 3",
   "language": "python",
   "name": "python3"
  },
  "language_info": {
   "codemirror_mode": {
    "name": "ipython",
    "version": 3
   },
   "file_extension": ".py",
   "mimetype": "text/x-python",
   "name": "python",
   "nbconvert_exporter": "python",
   "pygments_lexer": "ipython3",
   "version": "3.5.2"
  }
 },
 "nbformat": 4,
 "nbformat_minor": 0
}
